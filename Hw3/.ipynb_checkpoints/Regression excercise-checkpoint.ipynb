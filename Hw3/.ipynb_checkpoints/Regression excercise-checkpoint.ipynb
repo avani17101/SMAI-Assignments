{
 "cells": [
  {
   "cell_type": "markdown",
   "metadata": {},
   "source": [
    "# Visualizing the OLS cost function, L1, L2 constraints\n",
    "\n",
    "Starter code for the Q3"
   ]
  },
  {
   "cell_type": "markdown",
   "metadata": {},
   "source": [
    "#### Libraries"
   ]
  },
  {
   "cell_type": "code",
   "execution_count": 1,
   "metadata": {},
   "outputs": [],
   "source": [
    "import numpy as np\n",
    "import pandas as pd\n",
    "from matplotlib import pyplot as plt\n",
    "\n",
    "%matplotlib inline\n",
    "plt.style.use('seaborn-white')"
   ]
  },
  {
   "cell_type": "markdown",
   "metadata": {},
   "source": [
    "#### Creating the data set"
   ]
  },
  {
   "cell_type": "code",
   "execution_count": null,
   "metadata": {},
   "outputs": [],
   "source": [
    "#Creating the dataset (as previously)\n",
    "x = np.linspace(0,1,40)\n",
    "noise = 1*np.random.uniform(  size = 40)\n",
    "y = np.sin(x * 1.5 * np.pi ) \n",
    "y_noise = (y + noise).reshape(-1,1)\n",
    "\n",
    "#Subtracting the mean so that the y's are centered\n",
    "y_noise = y_noise - y_noise.mean()\n",
    "X = np.vstack((2*x,x**2)).T\n",
    "\n",
    "#Nornalizing the design matrix to facilitate visualization\n",
    "X = X / np.linalg.norm(X,axis = 0)"
   ]
  },
  {
   "cell_type": "markdown",
   "metadata": {},
   "source": [
    "#### Helper functions"
   ]
  },
  {
   "cell_type": "code",
   "execution_count": null,
   "metadata": {},
   "outputs": [],
   "source": [
    "''' Complete the cell '''\n",
    "#### HINT: Write the closed form function for OLS, Ridge and coordinate descent function for Lasso \n",
    "#### Each function must depend on the variable lambda\n"
   ]
  },
  {
   "cell_type": "markdown",
   "metadata": {},
   "source": [
    "#### Computing the Ridge regularization solutions as a function of $\\lambda$"
   ]
  },
  {
   "cell_type": "code",
   "execution_count": null,
   "metadata": {},
   "outputs": [],
   "source": [
    "''' Complete the cell '''\n",
    "#### HINT: For the lambda range given below, call the ridge regression function\n",
    "#### and store optimal w for each lambda\n",
    "\n",
    "lambda_range = np.logspace(0,4,num = 100)/1000"
   ]
  },
  {
   "cell_type": "markdown",
   "metadata": {},
   "source": [
    "#### Computing the Lasso regularization solutions as a function of $\\lambda$"
   ]
  },
  {
   "cell_type": "code",
   "execution_count": null,
   "metadata": {},
   "outputs": [],
   "source": [
    "''' Complete the cell '''\n",
    "#### HINT: For the lambda range given below, call the lasso function\n",
    "#### and store optimal w for each lambda. [You can alternatively use\n",
    "#### SKLearn for this excercise to compute Lasso]\n",
    "\n",
    "lambda_range = np.logspace(0,2,num = 100)/1000"
   ]
  },
  {
   "cell_type": "markdown",
   "metadata": {},
   "source": [
    "#### Plotting the results"
   ]
  },
  {
   "cell_type": "code",
   "execution_count": null,
   "metadata": {},
   "outputs": [],
   "source": [
    "''' Complete the cell '''\n",
    "\n",
    "#Setup of meshgrid of w values\n",
    "xx, yy = np.meshgrid(np.linspace(-2,17,100),np.linspace(-17,3,100))\n",
    "\n",
    "#Computing the cost function for each w combination\n",
    "zz_l2 = np.array(  [cost_l2(xi, yi )for xi, yi in zip(np.ravel(xx), np.ravel(yy)) ] ) #L2 function\n",
    "\n",
    "zz_l1 = np.array(  [cost_l1(xi, yi )for xi, yi in zip(np.ravel(xx), np.ravel(yy)) ] ) #L1 function\n",
    "\n",
    "zz_ls = np.array(  [costfunction(X, y_noise.reshape(-1,1),np.array([t0,t1]).reshape(-1,1)) \n",
    "                     for t0, t1 in zip(np.ravel(xx), np.ravel(yy)) ] ) #least square cost function\n",
    "\n",
    "#Reshaping the cost values    \n",
    "Z_l2 = zz_l2.reshape(xx.shape)\n",
    "Z_ls = zz_ls.reshape(xx.shape)\n",
    "Z_l1 = zz_l1.reshape(xx.shape)\n",
    "\n",
    "#Defining the global min of each function\n",
    "min_ls = np.linalg.inv(X.T @ X) @X.T @ y_noise\n",
    "min_l2 = np.array([0.,0.])\n",
    "min_l1 = np.array([0.,0.])\n",
    "\n",
    "#Plotting the contours - L2 \n",
    "fig = plt.figure(figsize = (16,7))\n",
    "ax = fig.add_subplot(1, 2, 1)\n",
    "ax.contour(xx, yy, Z_l2, levels = [.5,1.5,3,6,9,15,30,60,100,150,250],  cmap = 'gist_gray', label = 'l2')\n",
    "ax.contour(xx, yy, Z_ls, levels = [.01,.06,.09,.11,.15], cmap = 'coolwarm', label = 'least squares')\n",
    "ax.set_xlabel('w 1')\n",
    "ax.set_ylabel('w 2')\n",
    "ax.set_title('Ridge solution as a function of $\\\\lambda$ - OLS and $L_2$ ')\n",
    "\n",
    "#Plotting the minimum - L2 \n",
    "ax.plot(min_ls[0],min_ls[1], marker = 'x', color = 'red', markersize = 10)\n",
    "ax.plot(0,0, marker = 'o', color = 'black', markersize = 10)\n",
    "\n",
    "###############################################\n",
    "''' FILL THIS CODE '''\n",
    "#Plotting the path of L2 regularized minimum\n",
    "#### HINT: plot w_0 & w_1 list corresponding to each value of lambda\n",
    "## Your code below ##\n",
    "\n",
    "###############################################\n",
    "\n",
    "\n",
    "#Plotting the contours - L1 \n",
    "ax = fig.add_subplot(1, 2, 2)\n",
    "ax.contour(xx, yy, Z_l1, levels = [.5,1,2,3,4,5,6,8,10,12,14],  cmap = 'gist_gray', label = 'l_1')\n",
    "ax.contour(xx, yy, Z_ls, levels = [.01,.06,.09,.11,.15], cmap = 'coolwarm', label = 'least squares')\n",
    "ax.set_xlabel('w 1')\n",
    "ax.set_ylabel('w 2')\n",
    "ax.set_title('Lasso solution as a function of $\\\\lambda$ - OLS and $L_1$ ')\n",
    "\n",
    "#Plotting the minimum - L1\n",
    "ax.plot(min_ls[0],min_ls[1], marker = 'x', color = 'red', markersize = 10)\n",
    "ax.plot(0,0, marker = 'o', color = 'black', markersize = 10)\n",
    "\n",
    "###############################################\n",
    "''' FILL THIS CODE '''\n",
    "#Plotting the path of L1 regularized minimum\n",
    "#### HINT: plot w_0 & w_1 list corresponding to each value of lambda\n",
    "## Your code below ##\n",
    "\n",
    "###############################################\n",
    "\n",
    "\n",
    "plt.show()\n"
   ]
  }
 ],
 "metadata": {
  "kernelspec": {
   "display_name": "Python 3",
   "language": "python",
   "name": "python3"
  },
  "language_info": {
   "codemirror_mode": {
    "name": "ipython",
    "version": 3
   },
   "file_extension": ".py",
   "mimetype": "text/x-python",
   "name": "python",
   "nbconvert_exporter": "python",
   "pygments_lexer": "ipython3",
   "version": "3.8.3"
  }
 },
 "nbformat": 4,
 "nbformat_minor": 2
}
