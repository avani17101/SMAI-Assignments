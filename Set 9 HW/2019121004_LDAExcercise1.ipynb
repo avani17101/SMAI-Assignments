{
 "cells": [
  {
   "cell_type": "markdown",
   "metadata": {},
   "source": [
    "**Author: Avani Gupta <br>\n",
    "Roll: 2019121004**\n",
    "\n",
    "# Excercise 1\n",
    "\n",
    "In the tutorial you saw how to compute LDA for a two class problem. In this excercise we will work on a multi-class problem. We will be working with the famous Iris dataset that has been deposited on the UCI machine learning repository\n",
    "(https://archive.ics.uci.edu/ml/datasets/Iris).\n",
    "\n",
    "The iris dataset contains measurements for 150 iris flowers from three different species.\n",
    "\n",
    "The three classes in the Iris dataset:\n",
    "1. Iris-setosa (n=50)\n",
    "2. Iris-versicolor (n=50)\n",
    "3. Iris-virginica (n=50)\n",
    "\n",
    "The four features of the Iris dataset:\n",
    "1. sepal length in cm\n",
    "2. sepal width in cm\n",
    "3. petal length in cm\n",
    "4. petal width in cm\n",
    "\n",
    "<img src=\"iris_petal_sepal.png\">\n",
    "\n"
   ]
  },
  {
   "cell_type": "code",
   "execution_count": 1,
   "metadata": {},
   "outputs": [],
   "source": [
    "from sklearn.datasets import make_classification\n",
    "import matplotlib.pyplot as plt\n",
    "import numpy as np\n",
    "import seaborn as sns; sns.set();\n",
    "import pandas as pd\n",
    "from sklearn.model_selection import train_test_split\n",
    "from numpy import pi"
   ]
  },
  {
   "cell_type": "markdown",
   "metadata": {},
   "source": [
    "### Importing the dataset"
   ]
  },
  {
   "cell_type": "code",
   "execution_count": 2,
   "metadata": {},
   "outputs": [
    {
     "data": {
      "text/html": [
       "<div>\n",
       "<style scoped>\n",
       "    .dataframe tbody tr th:only-of-type {\n",
       "        vertical-align: middle;\n",
       "    }\n",
       "\n",
       "    .dataframe tbody tr th {\n",
       "        vertical-align: top;\n",
       "    }\n",
       "\n",
       "    .dataframe thead th {\n",
       "        text-align: right;\n",
       "    }\n",
       "</style>\n",
       "<table border=\"1\" class=\"dataframe\">\n",
       "  <thead>\n",
       "    <tr style=\"text-align: right;\">\n",
       "      <th></th>\n",
       "      <th>sepal-length</th>\n",
       "      <th>sepal-width</th>\n",
       "      <th>petal-length</th>\n",
       "      <th>petal-width</th>\n",
       "      <th>Class</th>\n",
       "    </tr>\n",
       "  </thead>\n",
       "  <tbody>\n",
       "    <tr>\n",
       "      <th>145</th>\n",
       "      <td>6.7</td>\n",
       "      <td>3.0</td>\n",
       "      <td>5.2</td>\n",
       "      <td>2.3</td>\n",
       "      <td>Iris-virginica</td>\n",
       "    </tr>\n",
       "    <tr>\n",
       "      <th>146</th>\n",
       "      <td>6.3</td>\n",
       "      <td>2.5</td>\n",
       "      <td>5.0</td>\n",
       "      <td>1.9</td>\n",
       "      <td>Iris-virginica</td>\n",
       "    </tr>\n",
       "    <tr>\n",
       "      <th>147</th>\n",
       "      <td>6.5</td>\n",
       "      <td>3.0</td>\n",
       "      <td>5.2</td>\n",
       "      <td>2.0</td>\n",
       "      <td>Iris-virginica</td>\n",
       "    </tr>\n",
       "    <tr>\n",
       "      <th>148</th>\n",
       "      <td>6.2</td>\n",
       "      <td>3.4</td>\n",
       "      <td>5.4</td>\n",
       "      <td>2.3</td>\n",
       "      <td>Iris-virginica</td>\n",
       "    </tr>\n",
       "    <tr>\n",
       "      <th>149</th>\n",
       "      <td>5.9</td>\n",
       "      <td>3.0</td>\n",
       "      <td>5.1</td>\n",
       "      <td>1.8</td>\n",
       "      <td>Iris-virginica</td>\n",
       "    </tr>\n",
       "  </tbody>\n",
       "</table>\n",
       "</div>"
      ],
      "text/plain": [
       "     sepal-length  sepal-width  petal-length  petal-width           Class\n",
       "145           6.7          3.0           5.2          2.3  Iris-virginica\n",
       "146           6.3          2.5           5.0          1.9  Iris-virginica\n",
       "147           6.5          3.0           5.2          2.0  Iris-virginica\n",
       "148           6.2          3.4           5.4          2.3  Iris-virginica\n",
       "149           5.9          3.0           5.1          1.8  Iris-virginica"
      ]
     },
     "execution_count": 2,
     "metadata": {},
     "output_type": "execute_result"
    }
   ],
   "source": [
    "url = \"https://archive.ics.uci.edu/ml/machine-learning-databases/iris/iris.data\"\n",
    "names = ['sepal-length', 'sepal-width', 'petal-length', 'petal-width', 'Class']\n",
    "dataset = pd.read_csv(url, names=names)\n",
    "\n",
    "dataset.tail()"
   ]
  },
  {
   "cell_type": "markdown",
   "metadata": {},
   "source": [
    "### Data preprocessing\n",
    "\n",
    "Once dataset is loaded into a pandas data frame object, the first step is to divide dataset into features and corresponding labels and then divide the resultant dataset into training and test sets. The following code divides data into labels and feature set:"
   ]
  },
  {
   "cell_type": "code",
   "execution_count": 3,
   "metadata": {},
   "outputs": [],
   "source": [
    "X = dataset.iloc[:, 0:4].values\n",
    "y = dataset.iloc[:, 4].values"
   ]
  },
  {
   "cell_type": "markdown",
   "metadata": {},
   "source": [
    "The above script assigns the first four columns of the dataset i.e. the feature set to X variable while the values in the fifth column (labels) are assigned to the y variable.\n",
    "\n",
    "The following code divides data into training and test sets:"
   ]
  },
  {
   "cell_type": "code",
   "execution_count": 4,
   "metadata": {},
   "outputs": [],
   "source": [
    "from sklearn.model_selection import train_test_split\n",
    "\n",
    "X_train, X_test, y_train, y_test = train_test_split(X, y, test_size=0.2, random_state=0)"
   ]
  },
  {
   "cell_type": "markdown",
   "metadata": {},
   "source": [
    "#### Feature Scaling\n",
    "\n",
    "We will now perform feature scaling as part of data preprocessing too. For this task, we will be using scikit learn `StandardScalar`."
   ]
  },
  {
   "cell_type": "code",
   "execution_count": 5,
   "metadata": {},
   "outputs": [],
   "source": [
    "from sklearn.preprocessing import StandardScaler\n",
    "sc = StandardScaler()\n",
    "X_train = sc.fit_transform(X_train)\n",
    "X_test = sc.transform(X_test)"
   ]
  },
  {
   "cell_type": "markdown",
   "metadata": {},
   "source": [
    "## Write your code below\n",
    "\n",
    "Write you code below to LDA on the IRIS dataset and compute the overall accuracy of the classifier.\n",
    "\n",
    "There are 3 classes thus we can pick 2 directions for solving it"
   ]
  },
  {
   "cell_type": "code",
   "execution_count": 6,
   "metadata": {},
   "outputs": [
    {
     "name": "stdout",
     "output_type": "stream",
     "text": [
      "['Iris-virginica' 'Iris-versicolor' 'Iris-setosa' 'Iris-virginica'\n",
      " 'Iris-setosa' 'Iris-virginica' 'Iris-setosa' 'Iris-versicolor'\n",
      " 'Iris-versicolor' 'Iris-versicolor' 'Iris-virginica' 'Iris-versicolor'\n",
      " 'Iris-versicolor' 'Iris-versicolor' 'Iris-versicolor' 'Iris-setosa'\n",
      " 'Iris-versicolor' 'Iris-versicolor' 'Iris-setosa' 'Iris-setosa'\n",
      " 'Iris-virginica' 'Iris-versicolor' 'Iris-setosa' 'Iris-setosa'\n",
      " 'Iris-virginica' 'Iris-setosa' 'Iris-setosa' 'Iris-versicolor'\n",
      " 'Iris-versicolor' 'Iris-setosa']\n"
     ]
    }
   ],
   "source": [
    "print(y_test)"
   ]
  },
  {
   "cell_type": "code",
   "execution_count": 7,
   "metadata": {},
   "outputs": [
    {
     "name": "stdout",
     "output_type": "stream",
     "text": [
      "within class scatter matrix S_w:\n",
      "\n",
      "[[44.52097054 30.99078596 13.79582236  7.7224602 ]\n",
      " [30.99078596 76.33479439  8.78955077 11.47388844]\n",
      " [13.79582236  8.78955077  7.0462481   4.00213667]\n",
      " [ 7.7224602  11.47388844  4.00213667  8.02030645]]\n",
      "between class scatter matrix S_b:\n",
      "\n",
      "[[ 75.47902946 -38.25871753  91.29722578  91.65558497]\n",
      " [-38.25871753  43.66520561 -54.10268478 -50.52279974]\n",
      " [ 91.29722578 -54.10268478 112.9537519  112.1744104 ]\n",
      " [ 91.65558497 -50.52279974 112.1744104  111.97969355]]\n",
      "weights [[ 0.18577978 -0.13278217]\n",
      " [ 0.11909601 -0.24554194]\n",
      " [-0.86734704  0.66886383]\n",
      " [-0.44610662 -0.6889842 ]]\n",
      "Accuracy on train set 96.66666666666667\n",
      "Accuracy on test set: 96.66666666666667\n"
     ]
    },
    {
     "data": {
      "image/png": "[encoded data removed]",
      "text/plain": [
       "<Figure size 432x288 with 1 Axes>"
      ]
     },
     "metadata": {},
     "output_type": "display_data"
    },
    {
     "data": {
      "image/png": "[encoded data removed]",
      "text/plain": [
       "<Figure size 432x288 with 1 Axes>"
      ]
     },
     "metadata": {},
     "output_type": "display_data"
    }
   ],
   "source": [
    "# label encoding \n",
    "from sklearn.preprocessing import LabelEncoder\n",
    "enc = LabelEncoder()\n",
    "label_encoder = enc.fit(y_train)\n",
    "y_train = label_encoder.transform(y_train) + 1  #labels are done in alphabetical order\n",
    "# 1: 'Iris-setosa', 2: 'Iris-versicolor', 3:'Iris-virginica'\n",
    "label_encoder = enc.fit(y_test)\n",
    "y_test = label_encoder.transform(y_test) + 1\n",
    "labels = ['setosa', 'Versicolor', 'Virginica']\n",
    "\n",
    "num_classes = 3\n",
    "num_classes_plus1 = num_classes + 1\n",
    "def find_mean(X_train,y_train,num_classes_plus1):\n",
    "    mean_arr = []\n",
    "    for cl in range(1,num_classes_plus1):\n",
    "        mean_arr.append(np.mean(X_train[y_train==cl], axis=0))\n",
    "    return mean_arr\n",
    "\n",
    "mean_arr =  find_mean(X_train,y_train,num_classes_plus1)\n",
    "\n",
    "def within_classScatter(mean_arr,X_train,y_train,num_classes_plus1):\n",
    "    S_w = np.zeros((num_classes_plus1,num_classes_plus1))\n",
    "    for cl, mv in zip(range(1,num_classes_plus1),mean_arr):\n",
    "        temp_s = np.zeros((num_classes_plus1,num_classes_plus1))\n",
    "        for data in X_train[y_train==cl]:\n",
    "            data, mv = data.reshape(num_classes_plus1,1), mv.reshape(num_classes_plus1,1) ### making them vertical vectors\n",
    "            temp_s += (data-mv)@((data-mv).T)\n",
    "        S_w += temp_s\n",
    "    return S_w\n",
    "S_w = within_classScatter(mean_arr,X_train,y_train,num_classes_plus1)      \n",
    "print(\"within class scatter matrix S_w:\\n\")\n",
    "print(S_w)\n",
    "\n",
    "def btw_clasScatter(mean_arr,X_train,y_train,num_classes_plus1):\n",
    "    total_mean = np.mean(X_train, axis=0).reshape(num_classes_plus1,1)\n",
    "    S_b = np.zeros((num_classes_plus1,num_classes_plus1))\n",
    "    for cl, mv in zip(range(1,num_classes_plus1), mean_arr):\n",
    "        n = X_train[y_train==cl].shape[0]\n",
    "        class_mean = mv.reshape(num_classes_plus1,1)\n",
    "        S_b += n*((class_mean - total_mean)@(class_mean - total_mean).T)\n",
    "    return S_b\n",
    "S_b = btw_clasScatter(mean_arr,X_train,y_train,num_classes_plus1)\n",
    "print(\"between class scatter matrix S_b:\\n\")\n",
    "print(S_b) \n",
    "\n",
    "def takeTopEigen(S_w, S_b,k):\n",
    "    eigen_vals, eigen_vecs = np.linalg.eig(np.linalg.inv(S_w).dot(S_b))\n",
    "    eigs_sorted_in = np.argsort(eigen_vals)[::-1]\n",
    "    eigen_vals = eigen_vals[eigs_sorted_in]\n",
    "    eigen_vecs = eigen_vecs[:,eigs_sorted_in]\n",
    "    weights = eigen_vecs[:,:k]\n",
    "    return weights\n",
    "\n",
    "def lda_vecs(X_train, y_train,weights):\n",
    "    Xtrain_lda = X_train@weights\n",
    "    Xtest_lda = X_test@weights\n",
    "    return Xtrain_lda, Xtest_lda \n",
    "\n",
    "weights = takeTopEigen(S_w, S_b,2)\n",
    "print(\"weights\",weights)\n",
    "Xtrain_lda, Xtest_lda  = lda_vecs(X_train, y_train,weights)\n",
    "\n",
    "def centroid(Xtrain_lda,y_train):\n",
    "    centroids = []\n",
    "    for i in range(1,num_classes_plus1):\n",
    "        centroids.append(np.mean(Xtrain_lda[y_train == i], axis = 0))\n",
    "    return centroids\n",
    "\n",
    "centroids = centroid(Xtrain_lda,y_train)\n",
    "\n",
    "\n",
    "def pred(X_lda,centroids):\n",
    "    y_pred = []\n",
    "    for i in range(len(X_lda)):\n",
    "        y_pred.append(np.argmin([ np.linalg.norm(centroids[0]-X_lda[i]), np.linalg.norm(centroids[1]-X_lda[i]), np.linalg.norm(centroids[2]-X_lda[i]) ])+1)\n",
    "    return np.array(y_pred)\n",
    "\n",
    "def accuracy(X_lda,y,centroids):\n",
    "    y_pred = pred(X_lda,centroids)\n",
    "    err = y-y_pred\n",
    "    accuracy = len(err[err == 0])/len(err)\n",
    "    return accuracy*100\n",
    "\n",
    "acc = accuracy(Xtrain_lda,y_train,centroids)\n",
    "print(\"Accuracy on train set\",acc)\n",
    "\n",
    "acc = accuracy(Xtest_lda,y_test,centroids)\n",
    "print(\"Accuracy on test set:\",acc)\n",
    "\n",
    "def calc_class(Xtrain_lda,centroids):\n",
    "    x_r, y_r = np.meshgrid(np.linspace(np.min(Xtrain_lda[:,0])-0.2, np.max(Xtrain_lda[:,1])+0.2,200), np.linspace(np.min(Xtrain_lda[:,1])-0.2, np.max(Xtrain_lda[:,1])+0.2,200))\n",
    "    cl = np.zeros(x_r.shape)\n",
    "    # finding which class the sample belongs to\n",
    "    # cl is label vector of predicted class\n",
    "    for i in range(len(x_r)):\n",
    "        for j in range(len(y_r)):\n",
    "            pt = [x_r[i,j], y_r[i,j]]\n",
    "            clas = []\n",
    "            for l in range(3):\n",
    "                clas.append(np.linalg.norm(centroids[l]-pt))\n",
    "            cl[i,j] = np.argmin(clas)+1\n",
    "    return cl,x_r,y_r\n",
    "\n",
    "def plot(X_lda,y,cl,title):  \n",
    "  \n",
    "    for clas in range(1,num_classes_plus1):\n",
    "        plt.scatter(X_lda[y == clas][:,0],X_lda[y == clas][:,1],label=labels[clas-1])\n",
    "    \n",
    "    plt.xlabel(\"LDA1\")\n",
    "    plt.ylabel(\"LDA2\")\n",
    "    plt.title(title)\n",
    "    \n",
    "    plt.legend(loc='upper right')\n",
    "    plt.contour(x_r,y_r,cl)\n",
    "    \n",
    "    plt.show()\n",
    "cl,x_r,y_r = calc_class(Xtrain_lda,centroids)\n",
    "plot(Xtrain_lda,y_train,cl,\"Training set\")\n",
    "plot(Xtest_lda,y_test,cl,\"Test set\")\n"
   ]
  }
 ],
 "metadata": {
  "kernelspec": {
   "display_name": "Python 3",
   "language": "python",
   "name": "python3"
  },
  "language_info": {
   "codemirror_mode": {
    "name": "ipython",
    "version": 3
   },
   "file_extension": ".py",
   "mimetype": "text/x-python",
   "name": "python",
   "nbconvert_exporter": "python",
   "pygments_lexer": "ipython3",
   "version": "3.8.3"
  }
 },
 "nbformat": 4,
 "nbformat_minor": 2
}
